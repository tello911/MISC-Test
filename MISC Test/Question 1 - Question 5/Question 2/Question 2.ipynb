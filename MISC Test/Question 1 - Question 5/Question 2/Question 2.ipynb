{
 "cells": [
  {
   "cell_type": "markdown",
   "id": "dbc252e3",
   "metadata": {},
   "source": [
    "## Descriptive Analysis"
   ]
  },
  {
   "cell_type": "markdown",
   "id": "b0367f8c",
   "metadata": {},
   "source": [
    "### Preprocessing Data"
   ]
  },
  {
   "cell_type": "code",
   "execution_count": 1,
   "id": "1bf1b932",
   "metadata": {},
   "outputs": [],
   "source": [
    "import pandas as pd\n",
    "from sklearn.preprocessing import LabelBinarizer\n",
    "import matplotlib as plt"
   ]
  },
  {
   "cell_type": "code",
   "execution_count": 2,
   "id": "dcf6d974",
   "metadata": {},
   "outputs": [
    {
     "data": {
      "text/html": [
       "<div>\n",
       "<style scoped>\n",
       "    .dataframe tbody tr th:only-of-type {\n",
       "        vertical-align: middle;\n",
       "    }\n",
       "\n",
       "    .dataframe tbody tr th {\n",
       "        vertical-align: top;\n",
       "    }\n",
       "\n",
       "    .dataframe thead th {\n",
       "        text-align: right;\n",
       "    }\n",
       "</style>\n",
       "<table border=\"1\" class=\"dataframe\">\n",
       "  <thead>\n",
       "    <tr style=\"text-align: right;\">\n",
       "      <th></th>\n",
       "      <th>Creation Date</th>\n",
       "      <th>Purchase Date</th>\n",
       "      <th>Fiscal Year</th>\n",
       "      <th>Purchase Order Number</th>\n",
       "      <th>Acquisition Type</th>\n",
       "      <th>Sub-Acquisition Type</th>\n",
       "      <th>Acquisition Method</th>\n",
       "      <th>Department Name</th>\n",
       "      <th>Supplier Code</th>\n",
       "      <th>Supplier Name</th>\n",
       "      <th>...</th>\n",
       "      <th>Classification Codes</th>\n",
       "      <th>Normalized UNSPSC</th>\n",
       "      <th>Commodity Title</th>\n",
       "      <th>Class</th>\n",
       "      <th>Class Title</th>\n",
       "      <th>Family</th>\n",
       "      <th>Family Title</th>\n",
       "      <th>Segment</th>\n",
       "      <th>Segment Title</th>\n",
       "      <th>Location</th>\n",
       "    </tr>\n",
       "  </thead>\n",
       "  <tbody>\n",
       "    <tr>\n",
       "      <th>0</th>\n",
       "      <td>8/27/2013</td>\n",
       "      <td>NaN</td>\n",
       "      <td>2013-2014</td>\n",
       "      <td>REQ0011118</td>\n",
       "      <td>IT Goods</td>\n",
       "      <td>NaN</td>\n",
       "      <td>WSCA/Coop</td>\n",
       "      <td>Consumer Affairs, Department of</td>\n",
       "      <td>1740272.0</td>\n",
       "      <td>Pitney Bowes</td>\n",
       "      <td>...</td>\n",
       "      <td>NaN</td>\n",
       "      <td>NaN</td>\n",
       "      <td>NaN</td>\n",
       "      <td>NaN</td>\n",
       "      <td>NaN</td>\n",
       "      <td>NaN</td>\n",
       "      <td>NaN</td>\n",
       "      <td>NaN</td>\n",
       "      <td>NaN</td>\n",
       "      <td>NaN</td>\n",
       "    </tr>\n",
       "    <tr>\n",
       "      <th>1</th>\n",
       "      <td>1/29/2014</td>\n",
       "      <td>NaN</td>\n",
       "      <td>2013-2014</td>\n",
       "      <td>REQ0011932</td>\n",
       "      <td>NON-IT Goods</td>\n",
       "      <td>NaN</td>\n",
       "      <td>Informal Competitive</td>\n",
       "      <td>Consumer Affairs, Department of</td>\n",
       "      <td>1760085.0</td>\n",
       "      <td>Rodea Auto Tech</td>\n",
       "      <td>...</td>\n",
       "      <td>76121504</td>\n",
       "      <td>76121504.0</td>\n",
       "      <td>NaN</td>\n",
       "      <td>NaN</td>\n",
       "      <td>NaN</td>\n",
       "      <td>NaN</td>\n",
       "      <td>NaN</td>\n",
       "      <td>NaN</td>\n",
       "      <td>NaN</td>\n",
       "      <td>NaN</td>\n",
       "    </tr>\n",
       "    <tr>\n",
       "      <th>2</th>\n",
       "      <td>11/1/2013</td>\n",
       "      <td>NaN</td>\n",
       "      <td>2013-2014</td>\n",
       "      <td>REQ0011476</td>\n",
       "      <td>IT Services</td>\n",
       "      <td>NaN</td>\n",
       "      <td>Informal Competitive</td>\n",
       "      <td>Consumer Affairs, Department of</td>\n",
       "      <td>17224.0</td>\n",
       "      <td>Smile Business Products, Inc</td>\n",
       "      <td>...</td>\n",
       "      <td>NaN</td>\n",
       "      <td>NaN</td>\n",
       "      <td>NaN</td>\n",
       "      <td>NaN</td>\n",
       "      <td>NaN</td>\n",
       "      <td>NaN</td>\n",
       "      <td>NaN</td>\n",
       "      <td>NaN</td>\n",
       "      <td>NaN</td>\n",
       "      <td>95841\\n(38.662263, -121.346136)</td>\n",
       "    </tr>\n",
       "    <tr>\n",
       "      <th>3</th>\n",
       "      <td>6/13/2014</td>\n",
       "      <td>6/5/2014</td>\n",
       "      <td>2013-2014</td>\n",
       "      <td>4500236642</td>\n",
       "      <td>NON-IT Goods</td>\n",
       "      <td>NaN</td>\n",
       "      <td>Informal Competitive</td>\n",
       "      <td>Correctional Health Care Services</td>\n",
       "      <td>1754462.0</td>\n",
       "      <td>ASHAN INC</td>\n",
       "      <td>...</td>\n",
       "      <td>NaN</td>\n",
       "      <td>NaN</td>\n",
       "      <td>NaN</td>\n",
       "      <td>NaN</td>\n",
       "      <td>NaN</td>\n",
       "      <td>NaN</td>\n",
       "      <td>NaN</td>\n",
       "      <td>NaN</td>\n",
       "      <td>NaN</td>\n",
       "      <td>91436\\n(34.151642, -118.49051)</td>\n",
       "    </tr>\n",
       "    <tr>\n",
       "      <th>4</th>\n",
       "      <td>3/12/2014</td>\n",
       "      <td>3/12/2014</td>\n",
       "      <td>2013-2014</td>\n",
       "      <td>4500221028</td>\n",
       "      <td>NON-IT Goods</td>\n",
       "      <td>NaN</td>\n",
       "      <td>Statewide Contract</td>\n",
       "      <td>Corrections and Rehabilitation, Department of</td>\n",
       "      <td>1087660.0</td>\n",
       "      <td>Technology Integration Group</td>\n",
       "      <td>...</td>\n",
       "      <td>44103127</td>\n",
       "      <td>44103127.0</td>\n",
       "      <td>NaN</td>\n",
       "      <td>NaN</td>\n",
       "      <td>NaN</td>\n",
       "      <td>NaN</td>\n",
       "      <td>NaN</td>\n",
       "      <td>NaN</td>\n",
       "      <td>NaN</td>\n",
       "      <td>95814\\n(38.580427, -121.494396)</td>\n",
       "    </tr>\n",
       "    <tr>\n",
       "      <th>...</th>\n",
       "      <td>...</td>\n",
       "      <td>...</td>\n",
       "      <td>...</td>\n",
       "      <td>...</td>\n",
       "      <td>...</td>\n",
       "      <td>...</td>\n",
       "      <td>...</td>\n",
       "      <td>...</td>\n",
       "      <td>...</td>\n",
       "      <td>...</td>\n",
       "      <td>...</td>\n",
       "      <td>...</td>\n",
       "      <td>...</td>\n",
       "      <td>...</td>\n",
       "      <td>...</td>\n",
       "      <td>...</td>\n",
       "      <td>...</td>\n",
       "      <td>...</td>\n",
       "      <td>...</td>\n",
       "      <td>...</td>\n",
       "      <td>...</td>\n",
       "    </tr>\n",
       "    <tr>\n",
       "      <th>344499</th>\n",
       "      <td>11/3/2014</td>\n",
       "      <td>9/25/2014</td>\n",
       "      <td>2014-2015</td>\n",
       "      <td>4500252536</td>\n",
       "      <td>NON-IT Goods</td>\n",
       "      <td>NaN</td>\n",
       "      <td>Informal Competitive</td>\n",
       "      <td>Corrections and Rehabilitation, Department of</td>\n",
       "      <td>12205.0</td>\n",
       "      <td>Superior Produce, Inc.</td>\n",
       "      <td>...</td>\n",
       "      <td>93131608</td>\n",
       "      <td>93131608.0</td>\n",
       "      <td>Food supply services</td>\n",
       "      <td>93131600.0</td>\n",
       "      <td>Food and nutrition policy planning and programs</td>\n",
       "      <td>93130000.0</td>\n",
       "      <td>Humanitarian aid and relief</td>\n",
       "      <td>93000000.0</td>\n",
       "      <td>Politics and Civic Affairs Services</td>\n",
       "      <td>95811\\n(38.581053, -121.488564)</td>\n",
       "    </tr>\n",
       "    <tr>\n",
       "      <th>344500</th>\n",
       "      <td>8/14/2014</td>\n",
       "      <td>7/20/2011</td>\n",
       "      <td>2014-2015</td>\n",
       "      <td>10A1343</td>\n",
       "      <td>NON-IT Services</td>\n",
       "      <td>Expert Witneses</td>\n",
       "      <td>Services are specifically exempt by statute</td>\n",
       "      <td>Transportation, Department of</td>\n",
       "      <td>1018638.0</td>\n",
       "      <td>CONFIDENTIAL - Information Withheld</td>\n",
       "      <td>...</td>\n",
       "      <td>80121903</td>\n",
       "      <td>80121903.0</td>\n",
       "      <td>Expert witness service</td>\n",
       "      <td>80121900.0</td>\n",
       "      <td>Compensated legal participation services</td>\n",
       "      <td>80120000.0</td>\n",
       "      <td>Legal services</td>\n",
       "      <td>80000000.0</td>\n",
       "      <td>Management and Business Professionals and Admi...</td>\n",
       "      <td>95816\\n(38.57219, -121.467691)</td>\n",
       "    </tr>\n",
       "    <tr>\n",
       "      <th>344501</th>\n",
       "      <td>5/9/2014</td>\n",
       "      <td>NaN</td>\n",
       "      <td>2013-2014</td>\n",
       "      <td>228</td>\n",
       "      <td>IT Goods</td>\n",
       "      <td>NaN</td>\n",
       "      <td>SB/DVBE Option</td>\n",
       "      <td>High Speed Rail Authority, California</td>\n",
       "      <td>1136849.0</td>\n",
       "      <td>Straight-Line Solutions</td>\n",
       "      <td>...</td>\n",
       "      <td>45111609\\n56101710</td>\n",
       "      <td>45111609.0</td>\n",
       "      <td>Multimedia projectors</td>\n",
       "      <td>45111600.0</td>\n",
       "      <td>Projectors and supplies</td>\n",
       "      <td>45110000.0</td>\n",
       "      <td>Audio and visual presentation and composing eq...</td>\n",
       "      <td>45000000.0</td>\n",
       "      <td>Printing and Photographic and Audio and Visual...</td>\n",
       "      <td>95829\\n(38.474725, -121.340819)</td>\n",
       "    </tr>\n",
       "    <tr>\n",
       "      <th>344502</th>\n",
       "      <td>1/14/2014</td>\n",
       "      <td>1/14/2014</td>\n",
       "      <td>2013-2014</td>\n",
       "      <td>P1300614</td>\n",
       "      <td>NON-IT Goods</td>\n",
       "      <td>NaN</td>\n",
       "      <td>Fair and Reasonable</td>\n",
       "      <td>Franchise Tax Board</td>\n",
       "      <td>8329.0</td>\n",
       "      <td>Merritt Business Supplies</td>\n",
       "      <td>...</td>\n",
       "      <td>27112718</td>\n",
       "      <td>27112718.0</td>\n",
       "      <td>Engravers</td>\n",
       "      <td>27112700.0</td>\n",
       "      <td>Power tools</td>\n",
       "      <td>27110000.0</td>\n",
       "      <td>Hand tools</td>\n",
       "      <td>27000000.0</td>\n",
       "      <td>Tools and General Machinery</td>\n",
       "      <td>95630\\n(38.670213, -121.147592)</td>\n",
       "    </tr>\n",
       "    <tr>\n",
       "      <th>344503</th>\n",
       "      <td>10/9/2013</td>\n",
       "      <td>9/9/2013</td>\n",
       "      <td>2013-2014</td>\n",
       "      <td>2ui3L262</td>\n",
       "      <td>NON-IT Services</td>\n",
       "      <td>Contracts with Local Governments</td>\n",
       "      <td>Emergency Purchase</td>\n",
       "      <td>Forestry and Fire Protection, Department of</td>\n",
       "      <td>1050481.0</td>\n",
       "      <td>Happy Valley Fire Protection District</td>\n",
       "      <td>...</td>\n",
       "      <td>76122405</td>\n",
       "      <td>76122405.0</td>\n",
       "      <td>Labor fee</td>\n",
       "      <td>76122400.0</td>\n",
       "      <td>Refuse disposal and treatment fees</td>\n",
       "      <td>76120000.0</td>\n",
       "      <td>Refuse disposal and treatment</td>\n",
       "      <td>76000000.0</td>\n",
       "      <td>Industrial Cleaning Services</td>\n",
       "      <td>96007\\n(40.456408, -122.315294)</td>\n",
       "    </tr>\n",
       "  </tbody>\n",
       "</table>\n",
       "<p>344504 rows × 28 columns</p>\n",
       "</div>"
      ],
      "text/plain": [
       "       Creation Date Purchase Date Fiscal Year Purchase Order Number  \\\n",
       "0          8/27/2013           NaN   2013-2014            REQ0011118   \n",
       "1          1/29/2014           NaN   2013-2014            REQ0011932   \n",
       "2          11/1/2013           NaN   2013-2014            REQ0011476   \n",
       "3          6/13/2014      6/5/2014   2013-2014            4500236642   \n",
       "4          3/12/2014     3/12/2014   2013-2014            4500221028   \n",
       "...              ...           ...         ...                   ...   \n",
       "344499     11/3/2014     9/25/2014   2014-2015            4500252536   \n",
       "344500     8/14/2014     7/20/2011   2014-2015               10A1343   \n",
       "344501      5/9/2014           NaN   2013-2014                   228   \n",
       "344502     1/14/2014     1/14/2014   2013-2014              P1300614   \n",
       "344503     10/9/2013      9/9/2013   2013-2014              2ui3L262   \n",
       "\n",
       "       Acquisition Type              Sub-Acquisition Type  \\\n",
       "0              IT Goods                               NaN   \n",
       "1          NON-IT Goods                               NaN   \n",
       "2           IT Services                               NaN   \n",
       "3          NON-IT Goods                               NaN   \n",
       "4          NON-IT Goods                               NaN   \n",
       "...                 ...                               ...   \n",
       "344499     NON-IT Goods                               NaN   \n",
       "344500  NON-IT Services                   Expert Witneses   \n",
       "344501         IT Goods                               NaN   \n",
       "344502     NON-IT Goods                               NaN   \n",
       "344503  NON-IT Services  Contracts with Local Governments   \n",
       "\n",
       "                                 Acquisition Method  \\\n",
       "0                                         WSCA/Coop   \n",
       "1                              Informal Competitive   \n",
       "2                              Informal Competitive   \n",
       "3                              Informal Competitive   \n",
       "4                                Statewide Contract   \n",
       "...                                             ...   \n",
       "344499                         Informal Competitive   \n",
       "344500  Services are specifically exempt by statute   \n",
       "344501                               SB/DVBE Option   \n",
       "344502                          Fair and Reasonable   \n",
       "344503                           Emergency Purchase   \n",
       "\n",
       "                                      Department Name  Supplier Code  \\\n",
       "0                     Consumer Affairs, Department of      1740272.0   \n",
       "1                     Consumer Affairs, Department of      1760085.0   \n",
       "2                     Consumer Affairs, Department of        17224.0   \n",
       "3                   Correctional Health Care Services      1754462.0   \n",
       "4       Corrections and Rehabilitation, Department of      1087660.0   \n",
       "...                                               ...            ...   \n",
       "344499  Corrections and Rehabilitation, Department of        12205.0   \n",
       "344500                  Transportation, Department of      1018638.0   \n",
       "344501          High Speed Rail Authority, California      1136849.0   \n",
       "344502                            Franchise Tax Board         8329.0   \n",
       "344503    Forestry and Fire Protection, Department of      1050481.0   \n",
       "\n",
       "                                Supplier Name  ... Classification Codes  \\\n",
       "0                                Pitney Bowes  ...                  NaN   \n",
       "1                             Rodea Auto Tech  ...             76121504   \n",
       "2                Smile Business Products, Inc  ...                  NaN   \n",
       "3                                   ASHAN INC  ...                  NaN   \n",
       "4                Technology Integration Group  ...             44103127   \n",
       "...                                       ...  ...                  ...   \n",
       "344499                 Superior Produce, Inc.  ...             93131608   \n",
       "344500    CONFIDENTIAL - Information Withheld  ...             80121903   \n",
       "344501                Straight-Line Solutions  ...   45111609\\n56101710   \n",
       "344502              Merritt Business Supplies  ...             27112718   \n",
       "344503  Happy Valley Fire Protection District  ...             76122405   \n",
       "\n",
       "       Normalized UNSPSC         Commodity Title       Class  \\\n",
       "0                    NaN                     NaN         NaN   \n",
       "1             76121504.0                     NaN         NaN   \n",
       "2                    NaN                     NaN         NaN   \n",
       "3                    NaN                     NaN         NaN   \n",
       "4             44103127.0                     NaN         NaN   \n",
       "...                  ...                     ...         ...   \n",
       "344499        93131608.0    Food supply services  93131600.0   \n",
       "344500        80121903.0  Expert witness service  80121900.0   \n",
       "344501        45111609.0   Multimedia projectors  45111600.0   \n",
       "344502        27112718.0               Engravers  27112700.0   \n",
       "344503        76122405.0               Labor fee  76122400.0   \n",
       "\n",
       "                                            Class Title      Family  \\\n",
       "0                                                   NaN         NaN   \n",
       "1                                                   NaN         NaN   \n",
       "2                                                   NaN         NaN   \n",
       "3                                                   NaN         NaN   \n",
       "4                                                   NaN         NaN   \n",
       "...                                                 ...         ...   \n",
       "344499  Food and nutrition policy planning and programs  93130000.0   \n",
       "344500         Compensated legal participation services  80120000.0   \n",
       "344501                          Projectors and supplies  45110000.0   \n",
       "344502                                      Power tools  27110000.0   \n",
       "344503               Refuse disposal and treatment fees  76120000.0   \n",
       "\n",
       "                                             Family Title     Segment  \\\n",
       "0                                                     NaN         NaN   \n",
       "1                                                     NaN         NaN   \n",
       "2                                                     NaN         NaN   \n",
       "3                                                     NaN         NaN   \n",
       "4                                                     NaN         NaN   \n",
       "...                                                   ...         ...   \n",
       "344499                        Humanitarian aid and relief  93000000.0   \n",
       "344500                                     Legal services  80000000.0   \n",
       "344501  Audio and visual presentation and composing eq...  45000000.0   \n",
       "344502                                         Hand tools  27000000.0   \n",
       "344503                      Refuse disposal and treatment  76000000.0   \n",
       "\n",
       "                                            Segment Title  \\\n",
       "0                                                     NaN   \n",
       "1                                                     NaN   \n",
       "2                                                     NaN   \n",
       "3                                                     NaN   \n",
       "4                                                     NaN   \n",
       "...                                                   ...   \n",
       "344499                Politics and Civic Affairs Services   \n",
       "344500  Management and Business Professionals and Admi...   \n",
       "344501  Printing and Photographic and Audio and Visual...   \n",
       "344502                        Tools and General Machinery   \n",
       "344503                       Industrial Cleaning Services   \n",
       "\n",
       "                               Location  \n",
       "0                                   NaN  \n",
       "1                                   NaN  \n",
       "2       95841\\n(38.662263, -121.346136)  \n",
       "3        91436\\n(34.151642, -118.49051)  \n",
       "4       95814\\n(38.580427, -121.494396)  \n",
       "...                                 ...  \n",
       "344499  95811\\n(38.581053, -121.488564)  \n",
       "344500   95816\\n(38.57219, -121.467691)  \n",
       "344501  95829\\n(38.474725, -121.340819)  \n",
       "344502  95630\\n(38.670213, -121.147592)  \n",
       "344503  96007\\n(40.456408, -122.315294)  \n",
       "\n",
       "[344504 rows x 28 columns]"
      ]
     },
     "execution_count": 2,
     "metadata": {},
     "output_type": "execute_result"
    }
   ],
   "source": [
    "data = pd.read_csv(\"purchase-order-data.csv\")\n",
    "data = data.drop(columns = [\"REMOVE AMERISOURCE\",\"LPA Number\",\"Requisition Number\",\"Sub-Acquisition Method\"],axis=1)\n",
    "# data = data.dropna(subset=[\"Purchase Date\"])\n",
    "data"
   ]
  },
  {
   "cell_type": "code",
   "execution_count": 3,
   "id": "b34ef9de",
   "metadata": {},
   "outputs": [
    {
     "name": "stderr",
     "output_type": "stream",
     "text": [
      "C:\\Users\\User\\AppData\\Local\\Temp\\ipykernel_2560\\3521387059.py:1: FutureWarning: The default value of regex will change from True to False in a future version. In addition, single character regular expressions will *not* be treated as literal strings when regex=True.\n",
      "  data[\"Total Price\"] = data[\"Total Price\"].str.replace(\"$\",\"\").str.replace(\"(\",\"\").str.replace(\")\",\"\").str.replace(\",\",\"\")\n"
     ]
    }
   ],
   "source": [
    "data[\"Total Price\"] = data[\"Total Price\"].str.replace(\"$\",\"\").str.replace(\"(\",\"\").str.replace(\")\",\"\").str.replace(\",\",\"\")"
   ]
  },
  {
   "cell_type": "code",
   "execution_count": 4,
   "id": "b980627b",
   "metadata": {},
   "outputs": [
    {
     "name": "stderr",
     "output_type": "stream",
     "text": [
      "C:\\Users\\User\\AppData\\Local\\Temp\\ipykernel_2560\\3671859105.py:1: FutureWarning: The default value of regex will change from True to False in a future version. In addition, single character regular expressions will *not* be treated as literal strings when regex=True.\n",
      "  data[\"Unit Price\"] = data[\"Unit Price\"].str.replace(\"$\",\"\").str.replace(\"(\",\"\").str.replace(\")\",\"\").str.replace(\",\",\"\")\n"
     ]
    }
   ],
   "source": [
    "data[\"Unit Price\"] = data[\"Unit Price\"].str.replace(\"$\",\"\").str.replace(\"(\",\"\").str.replace(\")\",\"\").str.replace(\",\",\"\")"
   ]
  },
  {
   "cell_type": "code",
   "execution_count": 5,
   "id": "2230a2aa",
   "metadata": {},
   "outputs": [
    {
     "data": {
      "text/plain": [
       "Creation Date              datetime64[ns]\n",
       "Purchase Date                      object\n",
       "Fiscal Year                        object\n",
       "Purchase Order Number              object\n",
       "Acquisition Type                   object\n",
       "Sub-Acquisition Type               object\n",
       "Acquisition Method                 object\n",
       "Department Name                    object\n",
       "Supplier Code                      object\n",
       "Supplier Name                      object\n",
       "Supplier Qualifications            object\n",
       "Supplier Zip Code                  object\n",
       "CalCard                            object\n",
       "Item Name                          object\n",
       "Item Description                   object\n",
       "Quantity                          float64\n",
       "Unit Price                        float64\n",
       "Total Price                       float64\n",
       "Classification Codes               object\n",
       "Normalized UNSPSC                  object\n",
       "Commodity Title                    object\n",
       "Class                              object\n",
       "Class Title                        object\n",
       "Family                             object\n",
       "Family Title                       object\n",
       "Segment                            object\n",
       "Segment Title                      object\n",
       "Location                           object\n",
       "dtype: object"
      ]
     },
     "execution_count": 5,
     "metadata": {},
     "output_type": "execute_result"
    }
   ],
   "source": [
    "data = data.astype(str)\n",
    "data[\"Creation Date\"] = data[\"Creation Date\"].astype(\"datetime64\")\n",
    "data[\"Quantity\"] = data[\"Quantity\"].astype(float)\n",
    "data[\"Unit Price\"] = data[\"Unit Price\"].astype(float)\n",
    "data[\"Total Price\"] = data[\"Total Price\"].astype(float)\n",
    "\n",
    "data.dtypes"
   ]
  },
  {
   "cell_type": "markdown",
   "id": "6bfd7cb5",
   "metadata": {},
   "source": [
    "### Descriptive Analysis of the Whole Data"
   ]
  },
  {
   "cell_type": "code",
   "execution_count": 6,
   "id": "d64a98fc",
   "metadata": {},
   "outputs": [
    {
     "data": {
      "text/html": [
       "<div>\n",
       "<style scoped>\n",
       "    .dataframe tbody tr th:only-of-type {\n",
       "        vertical-align: middle;\n",
       "    }\n",
       "\n",
       "    .dataframe tbody tr th {\n",
       "        vertical-align: top;\n",
       "    }\n",
       "\n",
       "    .dataframe thead th {\n",
       "        text-align: right;\n",
       "    }\n",
       "</style>\n",
       "<table border=\"1\" class=\"dataframe\">\n",
       "  <thead>\n",
       "    <tr style=\"text-align: right;\">\n",
       "      <th></th>\n",
       "      <th>Quantity</th>\n",
       "      <th>Unit Price</th>\n",
       "      <th>Total Price</th>\n",
       "    </tr>\n",
       "  </thead>\n",
       "  <tbody>\n",
       "    <tr>\n",
       "      <th>count</th>\n",
       "      <td>3.444740e+05</td>\n",
       "      <td>3.444740e+05</td>\n",
       "      <td>3.444740e+05</td>\n",
       "    </tr>\n",
       "    <tr>\n",
       "      <th>mean</th>\n",
       "      <td>1.945776e+03</td>\n",
       "      <td>4.338299e+05</td>\n",
       "      <td>4.379472e+05</td>\n",
       "    </tr>\n",
       "    <tr>\n",
       "      <th>std</th>\n",
       "      <td>9.819831e+04</td>\n",
       "      <td>2.141129e+07</td>\n",
       "      <td>2.141133e+07</td>\n",
       "    </tr>\n",
       "    <tr>\n",
       "      <th>min</th>\n",
       "      <td>1.000000e-04</td>\n",
       "      <td>0.000000e+00</td>\n",
       "      <td>0.000000e+00</td>\n",
       "    </tr>\n",
       "    <tr>\n",
       "      <th>25%</th>\n",
       "      <td>1.000000e+00</td>\n",
       "      <td>3.518000e+01</td>\n",
       "      <td>3.067700e+02</td>\n",
       "    </tr>\n",
       "    <tr>\n",
       "      <th>50%</th>\n",
       "      <td>1.000000e+00</td>\n",
       "      <td>5.540000e+02</td>\n",
       "      <td>3.594000e+03</td>\n",
       "    </tr>\n",
       "    <tr>\n",
       "      <th>75%</th>\n",
       "      <td>6.000000e+00</td>\n",
       "      <td>1.012500e+04</td>\n",
       "      <td>1.474768e+04</td>\n",
       "    </tr>\n",
       "    <tr>\n",
       "      <th>max</th>\n",
       "      <td>2.000000e+07</td>\n",
       "      <td>7.337038e+09</td>\n",
       "      <td>7.337038e+09</td>\n",
       "    </tr>\n",
       "  </tbody>\n",
       "</table>\n",
       "</div>"
      ],
      "text/plain": [
       "           Quantity    Unit Price   Total Price\n",
       "count  3.444740e+05  3.444740e+05  3.444740e+05\n",
       "mean   1.945776e+03  4.338299e+05  4.379472e+05\n",
       "std    9.819831e+04  2.141129e+07  2.141133e+07\n",
       "min    1.000000e-04  0.000000e+00  0.000000e+00\n",
       "25%    1.000000e+00  3.518000e+01  3.067700e+02\n",
       "50%    1.000000e+00  5.540000e+02  3.594000e+03\n",
       "75%    6.000000e+00  1.012500e+04  1.474768e+04\n",
       "max    2.000000e+07  7.337038e+09  7.337038e+09"
      ]
     },
     "execution_count": 6,
     "metadata": {},
     "output_type": "execute_result"
    }
   ],
   "source": [
    "data.describe()"
   ]
  },
  {
   "cell_type": "code",
   "execution_count": 7,
   "id": "8262b981",
   "metadata": {},
   "outputs": [
    {
     "data": {
      "text/plain": [
       "<AxesSubplot:>"
      ]
     },
     "execution_count": 7,
     "metadata": {},
     "output_type": "execute_result"
    },
    {
     "data": {
      "image/png": "[encoded data removed]",
      "text/plain": [
       "<Figure size 432x288 with 1 Axes>"
      ]
     },
     "metadata": {
      "needs_background": "light"
     },
     "output_type": "display_data"
    }
   ],
   "source": [
    "data['Segment Title'].value_counts().plot(kind='bar')"
   ]
  },
  {
   "cell_type": "markdown",
   "id": "d4102460",
   "metadata": {},
   "source": [
    "### Descriptive analysis of Grouped Data focusing on Sales"
   ]
  },
  {
   "cell_type": "code",
   "execution_count": 8,
   "id": "49a6d5d9",
   "metadata": {},
   "outputs": [],
   "source": [
    "group_data = data.groupby([\"Segment Title\"]).sum().sort_values([\"Total Price\"])"
   ]
  },
  {
   "cell_type": "code",
   "execution_count": 9,
   "id": "e7d36957",
   "metadata": {},
   "outputs": [
    {
     "data": {
      "text/html": [
       "<div>\n",
       "<style scoped>\n",
       "    .dataframe tbody tr th:only-of-type {\n",
       "        vertical-align: middle;\n",
       "    }\n",
       "\n",
       "    .dataframe tbody tr th {\n",
       "        vertical-align: top;\n",
       "    }\n",
       "\n",
       "    .dataframe thead th {\n",
       "        text-align: right;\n",
       "    }\n",
       "</style>\n",
       "<table border=\"1\" class=\"dataframe\">\n",
       "  <thead>\n",
       "    <tr style=\"text-align: right;\">\n",
       "      <th></th>\n",
       "      <th>Quantity</th>\n",
       "      <th>Unit Price</th>\n",
       "      <th>Total Price</th>\n",
       "    </tr>\n",
       "  </thead>\n",
       "  <tbody>\n",
       "    <tr>\n",
       "      <th>count</th>\n",
       "      <td>5.700000e+01</td>\n",
       "      <td>5.700000e+01</td>\n",
       "      <td>5.700000e+01</td>\n",
       "    </tr>\n",
       "    <tr>\n",
       "      <th>mean</th>\n",
       "      <td>1.175911e+07</td>\n",
       "      <td>2.621809e+09</td>\n",
       "      <td>2.646692e+09</td>\n",
       "    </tr>\n",
       "    <tr>\n",
       "      <th>std</th>\n",
       "      <td>4.881205e+07</td>\n",
       "      <td>1.475741e+10</td>\n",
       "      <td>1.475592e+10</td>\n",
       "    </tr>\n",
       "    <tr>\n",
       "      <th>min</th>\n",
       "      <td>1.366338e+04</td>\n",
       "      <td>1.030855e+05</td>\n",
       "      <td>1.809830e+05</td>\n",
       "    </tr>\n",
       "    <tr>\n",
       "      <th>25%</th>\n",
       "      <td>3.745900e+05</td>\n",
       "      <td>7.114412e+07</td>\n",
       "      <td>8.817124e+07</td>\n",
       "    </tr>\n",
       "    <tr>\n",
       "      <th>50%</th>\n",
       "      <td>1.551163e+06</td>\n",
       "      <td>1.599710e+08</td>\n",
       "      <td>1.829333e+08</td>\n",
       "    </tr>\n",
       "    <tr>\n",
       "      <th>75%</th>\n",
       "      <td>3.451597e+06</td>\n",
       "      <td>4.928345e+08</td>\n",
       "      <td>5.618046e+08</td>\n",
       "    </tr>\n",
       "    <tr>\n",
       "      <th>max</th>\n",
       "      <td>3.262962e+08</td>\n",
       "      <td>1.117452e+11</td>\n",
       "      <td>1.117537e+11</td>\n",
       "    </tr>\n",
       "  </tbody>\n",
       "</table>\n",
       "</div>"
      ],
      "text/plain": [
       "           Quantity    Unit Price   Total Price\n",
       "count  5.700000e+01  5.700000e+01  5.700000e+01\n",
       "mean   1.175911e+07  2.621809e+09  2.646692e+09\n",
       "std    4.881205e+07  1.475741e+10  1.475592e+10\n",
       "min    1.366338e+04  1.030855e+05  1.809830e+05\n",
       "25%    3.745900e+05  7.114412e+07  8.817124e+07\n",
       "50%    1.551163e+06  1.599710e+08  1.829333e+08\n",
       "75%    3.451597e+06  4.928345e+08  5.618046e+08\n",
       "max    3.262962e+08  1.117452e+11  1.117537e+11"
      ]
     },
     "execution_count": 9,
     "metadata": {},
     "output_type": "execute_result"
    }
   ],
   "source": [
    "group_data.describe()"
   ]
  },
  {
   "cell_type": "code",
   "execution_count": 10,
   "id": "21cf30aa",
   "metadata": {},
   "outputs": [
    {
     "data": {
      "text/html": [
       "<div>\n",
       "<style scoped>\n",
       "    .dataframe tbody tr th:only-of-type {\n",
       "        vertical-align: middle;\n",
       "    }\n",
       "\n",
       "    .dataframe tbody tr th {\n",
       "        vertical-align: top;\n",
       "    }\n",
       "\n",
       "    .dataframe thead th {\n",
       "        text-align: right;\n",
       "    }\n",
       "</style>\n",
       "<table border=\"1\" class=\"dataframe\">\n",
       "  <thead>\n",
       "    <tr style=\"text-align: right;\">\n",
       "      <th></th>\n",
       "      <th>Quantity</th>\n",
       "      <th>Unit Price</th>\n",
       "      <th>Total Price</th>\n",
       "    </tr>\n",
       "    <tr>\n",
       "      <th>Segment Title</th>\n",
       "      <th></th>\n",
       "      <th></th>\n",
       "      <th></th>\n",
       "    </tr>\n",
       "  </thead>\n",
       "  <tbody>\n",
       "    <tr>\n",
       "      <th>Timepieces and Jewelry and Gemstone Products</th>\n",
       "      <td>1.366338e+04</td>\n",
       "      <td>1.030855e+05</td>\n",
       "      <td>1.809830e+05</td>\n",
       "    </tr>\n",
       "    <tr>\n",
       "      <th>Resin and Rosin and Rubber and Foam and Film and Elastomeric Materials</th>\n",
       "      <td>1.703454e+05</td>\n",
       "      <td>4.541721e+06</td>\n",
       "      <td>8.322122e+06</td>\n",
       "    </tr>\n",
       "    <tr>\n",
       "      <th>Sports and Recreational Equipment and Supplies and Accessories</th>\n",
       "      <td>1.196845e+05</td>\n",
       "      <td>1.057879e+07</td>\n",
       "      <td>1.205000e+07</td>\n",
       "    </tr>\n",
       "    <tr>\n",
       "      <th>Service Industry Machinery and Equipment and Supplies</th>\n",
       "      <td>3.802543e+06</td>\n",
       "      <td>1.870926e+07</td>\n",
       "      <td>2.343973e+07</td>\n",
       "    </tr>\n",
       "    <tr>\n",
       "      <th>Electronic Components and Supplies</th>\n",
       "      <td>3.101387e+05</td>\n",
       "      <td>1.841385e+07</td>\n",
       "      <td>2.745349e+07</td>\n",
       "    </tr>\n",
       "    <tr>\n",
       "      <th>Farming and Fishing and Forestry and Wildlife Machinery and Accessories</th>\n",
       "      <td>1.551163e+06</td>\n",
       "      <td>1.995880e+07</td>\n",
       "      <td>2.761327e+07</td>\n",
       "    </tr>\n",
       "    <tr>\n",
       "      <th>Drugs and Pharmaceutical Products</th>\n",
       "      <td>4.116904e+05</td>\n",
       "      <td>2.507267e+07</td>\n",
       "      <td>3.103891e+07</td>\n",
       "    </tr>\n",
       "    <tr>\n",
       "      <th>Printing and Photographic and Audio and Visual Equipment and Supplies</th>\n",
       "      <td>1.120019e+05</td>\n",
       "      <td>2.638602e+07</td>\n",
       "      <td>3.109714e+07</td>\n",
       "    </tr>\n",
       "    <tr>\n",
       "      <th>Tools and General Machinery</th>\n",
       "      <td>3.319538e+05</td>\n",
       "      <td>3.332365e+07</td>\n",
       "      <td>3.664815e+07</td>\n",
       "    </tr>\n",
       "    <tr>\n",
       "      <th>Manufacturing Components and Supplies</th>\n",
       "      <td>2.862216e+06</td>\n",
       "      <td>3.355986e+07</td>\n",
       "      <td>4.288783e+07</td>\n",
       "    </tr>\n",
       "    <tr>\n",
       "      <th>Industrial Manufacturing and Processing Machinery and Accessories</th>\n",
       "      <td>9.207038e+05</td>\n",
       "      <td>3.958805e+07</td>\n",
       "      <td>4.856036e+07</td>\n",
       "    </tr>\n",
       "    <tr>\n",
       "      <th>Personal and Domestic Services</th>\n",
       "      <td>7.235680e+05</td>\n",
       "      <td>6.845034e+07</td>\n",
       "      <td>7.009066e+07</td>\n",
       "    </tr>\n",
       "    <tr>\n",
       "      <th>Building and Construction Machinery and Accessories</th>\n",
       "      <td>5.710342e+04</td>\n",
       "      <td>5.253510e+07</td>\n",
       "      <td>7.436444e+07</td>\n",
       "    </tr>\n",
       "    <tr>\n",
       "      <th>Travel and Food and Lodging and Entertainment Services</th>\n",
       "      <td>1.807889e+06</td>\n",
       "      <td>7.114412e+07</td>\n",
       "      <td>7.675879e+07</td>\n",
       "    </tr>\n",
       "    <tr>\n",
       "      <th>Distribution and Conditioning Systems and Equipment and Components</th>\n",
       "      <td>6.778316e+05</td>\n",
       "      <td>8.057375e+07</td>\n",
       "      <td>8.817124e+07</td>\n",
       "    </tr>\n",
       "    <tr>\n",
       "      <th>Apparel and Luggage and Personal Care Products</th>\n",
       "      <td>6.110836e+06</td>\n",
       "      <td>7.077640e+07</td>\n",
       "      <td>8.998697e+07</td>\n",
       "    </tr>\n",
       "    <tr>\n",
       "      <th>Cleaning Equipment and Supplies</th>\n",
       "      <td>1.488341e+06</td>\n",
       "      <td>7.696699e+07</td>\n",
       "      <td>9.034843e+07</td>\n",
       "    </tr>\n",
       "    <tr>\n",
       "      <th>Material Handling and Conditioning and Storage Machinery and their Accessories and Supplies</th>\n",
       "      <td>2.591511e+06</td>\n",
       "      <td>7.535561e+07</td>\n",
       "      <td>9.525863e+07</td>\n",
       "    </tr>\n",
       "    <tr>\n",
       "      <th>Chemicals including Bio Chemicals and Gas Materials</th>\n",
       "      <td>2.546041e+06</td>\n",
       "      <td>8.226428e+07</td>\n",
       "      <td>9.698025e+07</td>\n",
       "    </tr>\n",
       "    <tr>\n",
       "      <th>Furniture and Furnishings</th>\n",
       "      <td>1.320701e+06</td>\n",
       "      <td>9.034771e+07</td>\n",
       "      <td>1.109720e+08</td>\n",
       "    </tr>\n",
       "    <tr>\n",
       "      <th>Editorial and Design and Graphic and Fine Art Services</th>\n",
       "      <td>1.135911e+06</td>\n",
       "      <td>1.098465e+08</td>\n",
       "      <td>1.133132e+08</td>\n",
       "    </tr>\n",
       "    <tr>\n",
       "      <th>Mining and Well Drilling Machinery and Accessories</th>\n",
       "      <td>1.141708e+06</td>\n",
       "      <td>1.061794e+08</td>\n",
       "      <td>1.176378e+08</td>\n",
       "    </tr>\n",
       "    <tr>\n",
       "      <th>Office Equipment and Accessories and Supplies</th>\n",
       "      <td>3.262962e+08</td>\n",
       "      <td>9.249872e+07</td>\n",
       "      <td>1.262161e+08</td>\n",
       "    </tr>\n",
       "    <tr>\n",
       "      <th>Paper Materials and Products</th>\n",
       "      <td>1.842592e+07</td>\n",
       "      <td>9.844418e+07</td>\n",
       "      <td>1.341349e+08</td>\n",
       "    </tr>\n",
       "    <tr>\n",
       "      <th>Power Generation and Distribution Machinery and Accessories</th>\n",
       "      <td>7.789587e+05</td>\n",
       "      <td>1.249470e+08</td>\n",
       "      <td>1.349651e+08</td>\n",
       "    </tr>\n",
       "    <tr>\n",
       "      <th>Domestic Appliances and Supplies and Consumer Electronic Products</th>\n",
       "      <td>2.630533e+06</td>\n",
       "      <td>1.065412e+08</td>\n",
       "      <td>1.382726e+08</td>\n",
       "    </tr>\n",
       "    <tr>\n",
       "      <th>Electrical Systems and Lighting and Components and Accessories and Supplies</th>\n",
       "      <td>8.233995e+05</td>\n",
       "      <td>1.186272e+08</td>\n",
       "      <td>1.383597e+08</td>\n",
       "    </tr>\n",
       "    <tr>\n",
       "      <th>Live Plant and Animal Material and Accessories and Supplies</th>\n",
       "      <td>1.662387e+07</td>\n",
       "      <td>1.334391e+08</td>\n",
       "      <td>1.559749e+08</td>\n",
       "    </tr>\n",
       "    <tr>\n",
       "      <th>Industrial Production and Manufacturing Services</th>\n",
       "      <td>1.792808e+06</td>\n",
       "      <td>1.759289e+08</td>\n",
       "      <td>1.829333e+08</td>\n",
       "    </tr>\n",
       "    <tr>\n",
       "      <th>Published Products</th>\n",
       "      <td>4.275369e+06</td>\n",
       "      <td>1.776819e+08</td>\n",
       "      <td>1.882449e+08</td>\n",
       "    </tr>\n",
       "    <tr>\n",
       "      <th>nan</th>\n",
       "      <td>1.030132e+06</td>\n",
       "      <td>1.741039e+08</td>\n",
       "      <td>1.923571e+08</td>\n",
       "    </tr>\n",
       "    <tr>\n",
       "      <th>Laboratory and Measuring and Observing and Testing Equipment</th>\n",
       "      <td>2.548807e+06</td>\n",
       "      <td>1.599710e+08</td>\n",
       "      <td>1.933437e+08</td>\n",
       "    </tr>\n",
       "    <tr>\n",
       "      <th>Transportation and Storage and Mail Services</th>\n",
       "      <td>1.003061e+07</td>\n",
       "      <td>2.426550e+08</td>\n",
       "      <td>2.540830e+08</td>\n",
       "    </tr>\n",
       "    <tr>\n",
       "      <th>Medical Equipment and Accessories and Supplies</th>\n",
       "      <td>1.035514e+07</td>\n",
       "      <td>2.702498e+08</td>\n",
       "      <td>3.016190e+08</td>\n",
       "    </tr>\n",
       "    <tr>\n",
       "      <th>Mining and oil and gas services</th>\n",
       "      <td>3.474185e+05</td>\n",
       "      <td>3.108607e+08</td>\n",
       "      <td>3.146615e+08</td>\n",
       "    </tr>\n",
       "    <tr>\n",
       "      <th>Fuels and Fuel Additives and Lubricants and Anti corrosive Materials</th>\n",
       "      <td>2.167668e+07</td>\n",
       "      <td>2.849248e+08</td>\n",
       "      <td>3.223708e+08</td>\n",
       "    </tr>\n",
       "    <tr>\n",
       "      <th>Industrial Cleaning Services</th>\n",
       "      <td>4.076875e+05</td>\n",
       "      <td>3.342984e+08</td>\n",
       "      <td>3.409037e+08</td>\n",
       "    </tr>\n",
       "    <tr>\n",
       "      <th>Defense and Law Enforcement and Security and Safety Equipment and Supplies</th>\n",
       "      <td>6.785749e+06</td>\n",
       "      <td>3.080630e+08</td>\n",
       "      <td>3.504606e+08</td>\n",
       "    </tr>\n",
       "    <tr>\n",
       "      <th>Land and Buildings and Structures and Thoroughfares</th>\n",
       "      <td>3.745900e+05</td>\n",
       "      <td>3.704588e+08</td>\n",
       "      <td>3.724175e+08</td>\n",
       "    </tr>\n",
       "    <tr>\n",
       "      <th>Food Beverage and Tobacco Products</th>\n",
       "      <td>1.823924e+08</td>\n",
       "      <td>3.159494e+08</td>\n",
       "      <td>4.665371e+08</td>\n",
       "    </tr>\n",
       "    <tr>\n",
       "      <th>Organizations and Clubs</th>\n",
       "      <td>3.194100e+04</td>\n",
       "      <td>4.928345e+08</td>\n",
       "      <td>4.929817e+08</td>\n",
       "    </tr>\n",
       "    <tr>\n",
       "      <th>Mineral and Textile and Inedible Plant and Animal Materials</th>\n",
       "      <td>2.486989e+06</td>\n",
       "      <td>4.770058e+08</td>\n",
       "      <td>5.010871e+08</td>\n",
       "    </tr>\n",
       "    <tr>\n",
       "      <th>Structures and Building and Construction and Manufacturing Components and Supplies</th>\n",
       "      <td>3.646713e+06</td>\n",
       "      <td>4.890306e+08</td>\n",
       "      <td>5.618046e+08</td>\n",
       "    </tr>\n",
       "    <tr>\n",
       "      <th>Musical Instruments and Games and Toys and Arts and Crafts and Educational Equipment and Materials and Accessories and Supplies</th>\n",
       "      <td>4.750235e+06</td>\n",
       "      <td>7.609836e+08</td>\n",
       "      <td>7.796079e+08</td>\n",
       "    </tr>\n",
       "    <tr>\n",
       "      <th>Public Utilities and Public Sector Related Services</th>\n",
       "      <td>3.108570e+05</td>\n",
       "      <td>8.223687e+08</td>\n",
       "      <td>8.240350e+08</td>\n",
       "    </tr>\n",
       "    <tr>\n",
       "      <th>Commercial and Military and Private Vehicles and their Accessories and Components</th>\n",
       "      <td>2.039805e+06</td>\n",
       "      <td>9.367545e+08</td>\n",
       "      <td>1.113617e+09</td>\n",
       "    </tr>\n",
       "    <tr>\n",
       "      <th>Farming and Fishing and Forestry and Wildlife Contracting Services</th>\n",
       "      <td>6.715248e+05</td>\n",
       "      <td>1.600009e+09</td>\n",
       "      <td>1.601387e+09</td>\n",
       "    </tr>\n",
       "    <tr>\n",
       "      <th>Building and Facility Construction and Maintenance Services</th>\n",
       "      <td>2.353845e+06</td>\n",
       "      <td>1.894959e+09</td>\n",
       "      <td>1.896910e+09</td>\n",
       "    </tr>\n",
       "    <tr>\n",
       "      <th>Information Technology Broadcasting and Telecommunications</th>\n",
       "      <td>2.254831e+06</td>\n",
       "      <td>1.744260e+09</td>\n",
       "      <td>1.944159e+09</td>\n",
       "    </tr>\n",
       "    <tr>\n",
       "      <th>National Defense and Public Order and Security and Safety Services</th>\n",
       "      <td>2.313175e+05</td>\n",
       "      <td>2.047843e+09</td>\n",
       "      <td>2.056466e+09</td>\n",
       "    </tr>\n",
       "    <tr>\n",
       "      <th>Financial and Insurance Services</th>\n",
       "      <td>5.663664e+04</td>\n",
       "      <td>2.218390e+09</td>\n",
       "      <td>2.226651e+09</td>\n",
       "    </tr>\n",
       "    <tr>\n",
       "      <th>Environmental Services</th>\n",
       "      <td>4.446620e+04</td>\n",
       "      <td>2.620485e+09</td>\n",
       "      <td>2.623368e+09</td>\n",
       "    </tr>\n",
       "    <tr>\n",
       "      <th>Education and Training Services</th>\n",
       "      <td>1.867598e+05</td>\n",
       "      <td>3.284733e+09</td>\n",
       "      <td>3.362764e+09</td>\n",
       "    </tr>\n",
       "    <tr>\n",
       "      <th>Politics and Civic Affairs Services</th>\n",
       "      <td>2.413264e+06</td>\n",
       "      <td>3.927187e+09</td>\n",
       "      <td>3.936697e+09</td>\n",
       "    </tr>\n",
       "    <tr>\n",
       "      <th>Engineering and Research and Technology Based Services</th>\n",
       "      <td>5.079772e+06</td>\n",
       "      <td>4.238935e+09</td>\n",
       "      <td>4.308457e+09</td>\n",
       "    </tr>\n",
       "    <tr>\n",
       "      <th>Management and Business Professionals and Administrative Services</th>\n",
       "      <td>3.451597e+06</td>\n",
       "      <td>5.227782e+09</td>\n",
       "      <td>5.256692e+09</td>\n",
       "    </tr>\n",
       "    <tr>\n",
       "      <th>Healthcare Services</th>\n",
       "      <td>2.454724e+06</td>\n",
       "      <td>1.117452e+11</td>\n",
       "      <td>1.117537e+11</td>\n",
       "    </tr>\n",
       "  </tbody>\n",
       "</table>\n",
       "</div>"
      ],
      "text/plain": [
       "                                                        Quantity  \\\n",
       "Segment Title                                                      \n",
       "Timepieces and Jewelry and Gemstone Products        1.366338e+04   \n",
       "Resin and Rosin and Rubber and Foam and Film an...  1.703454e+05   \n",
       "Sports and Recreational Equipment and Supplies ...  1.196845e+05   \n",
       "Service Industry Machinery and Equipment and Su...  3.802543e+06   \n",
       "Electronic Components and Supplies                  3.101387e+05   \n",
       "Farming and Fishing and Forestry and Wildlife M...  1.551163e+06   \n",
       "Drugs and Pharmaceutical Products                   4.116904e+05   \n",
       "Printing and Photographic and Audio and Visual ...  1.120019e+05   \n",
       "Tools and General Machinery                         3.319538e+05   \n",
       "Manufacturing Components and Supplies               2.862216e+06   \n",
       "Industrial Manufacturing and Processing Machine...  9.207038e+05   \n",
       "Personal and Domestic Services                      7.235680e+05   \n",
       "Building and Construction Machinery and Accesso...  5.710342e+04   \n",
       "Travel and Food and Lodging and Entertainment S...  1.807889e+06   \n",
       "Distribution and Conditioning Systems and Equip...  6.778316e+05   \n",
       "Apparel and Luggage and Personal Care Products      6.110836e+06   \n",
       "Cleaning Equipment and Supplies                     1.488341e+06   \n",
       "Material Handling and Conditioning and Storage ...  2.591511e+06   \n",
       "Chemicals including Bio Chemicals and Gas Mater...  2.546041e+06   \n",
       "Furniture and Furnishings                           1.320701e+06   \n",
       "Editorial and Design and Graphic and Fine Art S...  1.135911e+06   \n",
       "Mining and Well Drilling Machinery and Accessories  1.141708e+06   \n",
       "Office Equipment and Accessories and Supplies       3.262962e+08   \n",
       "Paper Materials and Products                        1.842592e+07   \n",
       "Power Generation and Distribution Machinery and...  7.789587e+05   \n",
       "Domestic Appliances and Supplies and Consumer E...  2.630533e+06   \n",
       "Electrical Systems and Lighting and Components ...  8.233995e+05   \n",
       "Live Plant and Animal Material and Accessories ...  1.662387e+07   \n",
       "Industrial Production and Manufacturing Services    1.792808e+06   \n",
       "Published Products                                  4.275369e+06   \n",
       "nan                                                 1.030132e+06   \n",
       "Laboratory and Measuring and Observing and Test...  2.548807e+06   \n",
       "Transportation and Storage and Mail Services        1.003061e+07   \n",
       "Medical Equipment and Accessories and Supplies      1.035514e+07   \n",
       "Mining and oil and gas services                     3.474185e+05   \n",
       "Fuels and Fuel Additives and Lubricants and Ant...  2.167668e+07   \n",
       "Industrial Cleaning Services                        4.076875e+05   \n",
       "Defense and Law Enforcement and Security and Sa...  6.785749e+06   \n",
       "Land and Buildings and Structures and Thoroughf...  3.745900e+05   \n",
       "Food Beverage and Tobacco Products                  1.823924e+08   \n",
       "Organizations and Clubs                             3.194100e+04   \n",
       "Mineral and Textile and Inedible Plant and Anim...  2.486989e+06   \n",
       "Structures and Building and Construction and Ma...  3.646713e+06   \n",
       "Musical Instruments and Games and Toys and Arts...  4.750235e+06   \n",
       "Public Utilities and Public Sector Related Serv...  3.108570e+05   \n",
       "Commercial and Military and Private Vehicles an...  2.039805e+06   \n",
       "Farming and Fishing and Forestry and Wildlife C...  6.715248e+05   \n",
       "Building and Facility Construction and Maintena...  2.353845e+06   \n",
       "Information Technology Broadcasting and Telecom...  2.254831e+06   \n",
       "National Defense and Public Order and Security ...  2.313175e+05   \n",
       "Financial and Insurance Services                    5.663664e+04   \n",
       "Environmental Services                              4.446620e+04   \n",
       "Education and Training Services                     1.867598e+05   \n",
       "Politics and Civic Affairs Services                 2.413264e+06   \n",
       "Engineering and Research and Technology Based S...  5.079772e+06   \n",
       "Management and Business Professionals and Admin...  3.451597e+06   \n",
       "Healthcare Services                                 2.454724e+06   \n",
       "\n",
       "                                                      Unit Price   Total Price  \n",
       "Segment Title                                                                   \n",
       "Timepieces and Jewelry and Gemstone Products        1.030855e+05  1.809830e+05  \n",
       "Resin and Rosin and Rubber and Foam and Film an...  4.541721e+06  8.322122e+06  \n",
       "Sports and Recreational Equipment and Supplies ...  1.057879e+07  1.205000e+07  \n",
       "Service Industry Machinery and Equipment and Su...  1.870926e+07  2.343973e+07  \n",
       "Electronic Components and Supplies                  1.841385e+07  2.745349e+07  \n",
       "Farming and Fishing and Forestry and Wildlife M...  1.995880e+07  2.761327e+07  \n",
       "Drugs and Pharmaceutical Products                   2.507267e+07  3.103891e+07  \n",
       "Printing and Photographic and Audio and Visual ...  2.638602e+07  3.109714e+07  \n",
       "Tools and General Machinery                         3.332365e+07  3.664815e+07  \n",
       "Manufacturing Components and Supplies               3.355986e+07  4.288783e+07  \n",
       "Industrial Manufacturing and Processing Machine...  3.958805e+07  4.856036e+07  \n",
       "Personal and Domestic Services                      6.845034e+07  7.009066e+07  \n",
       "Building and Construction Machinery and Accesso...  5.253510e+07  7.436444e+07  \n",
       "Travel and Food and Lodging and Entertainment S...  7.114412e+07  7.675879e+07  \n",
       "Distribution and Conditioning Systems and Equip...  8.057375e+07  8.817124e+07  \n",
       "Apparel and Luggage and Personal Care Products      7.077640e+07  8.998697e+07  \n",
       "Cleaning Equipment and Supplies                     7.696699e+07  9.034843e+07  \n",
       "Material Handling and Conditioning and Storage ...  7.535561e+07  9.525863e+07  \n",
       "Chemicals including Bio Chemicals and Gas Mater...  8.226428e+07  9.698025e+07  \n",
       "Furniture and Furnishings                           9.034771e+07  1.109720e+08  \n",
       "Editorial and Design and Graphic and Fine Art S...  1.098465e+08  1.133132e+08  \n",
       "Mining and Well Drilling Machinery and Accessories  1.061794e+08  1.176378e+08  \n",
       "Office Equipment and Accessories and Supplies       9.249872e+07  1.262161e+08  \n",
       "Paper Materials and Products                        9.844418e+07  1.341349e+08  \n",
       "Power Generation and Distribution Machinery and...  1.249470e+08  1.349651e+08  \n",
       "Domestic Appliances and Supplies and Consumer E...  1.065412e+08  1.382726e+08  \n",
       "Electrical Systems and Lighting and Components ...  1.186272e+08  1.383597e+08  \n",
       "Live Plant and Animal Material and Accessories ...  1.334391e+08  1.559749e+08  \n",
       "Industrial Production and Manufacturing Services    1.759289e+08  1.829333e+08  \n",
       "Published Products                                  1.776819e+08  1.882449e+08  \n",
       "nan                                                 1.741039e+08  1.923571e+08  \n",
       "Laboratory and Measuring and Observing and Test...  1.599710e+08  1.933437e+08  \n",
       "Transportation and Storage and Mail Services        2.426550e+08  2.540830e+08  \n",
       "Medical Equipment and Accessories and Supplies      2.702498e+08  3.016190e+08  \n",
       "Mining and oil and gas services                     3.108607e+08  3.146615e+08  \n",
       "Fuels and Fuel Additives and Lubricants and Ant...  2.849248e+08  3.223708e+08  \n",
       "Industrial Cleaning Services                        3.342984e+08  3.409037e+08  \n",
       "Defense and Law Enforcement and Security and Sa...  3.080630e+08  3.504606e+08  \n",
       "Land and Buildings and Structures and Thoroughf...  3.704588e+08  3.724175e+08  \n",
       "Food Beverage and Tobacco Products                  3.159494e+08  4.665371e+08  \n",
       "Organizations and Clubs                             4.928345e+08  4.929817e+08  \n",
       "Mineral and Textile and Inedible Plant and Anim...  4.770058e+08  5.010871e+08  \n",
       "Structures and Building and Construction and Ma...  4.890306e+08  5.618046e+08  \n",
       "Musical Instruments and Games and Toys and Arts...  7.609836e+08  7.796079e+08  \n",
       "Public Utilities and Public Sector Related Serv...  8.223687e+08  8.240350e+08  \n",
       "Commercial and Military and Private Vehicles an...  9.367545e+08  1.113617e+09  \n",
       "Farming and Fishing and Forestry and Wildlife C...  1.600009e+09  1.601387e+09  \n",
       "Building and Facility Construction and Maintena...  1.894959e+09  1.896910e+09  \n",
       "Information Technology Broadcasting and Telecom...  1.744260e+09  1.944159e+09  \n",
       "National Defense and Public Order and Security ...  2.047843e+09  2.056466e+09  \n",
       "Financial and Insurance Services                    2.218390e+09  2.226651e+09  \n",
       "Environmental Services                              2.620485e+09  2.623368e+09  \n",
       "Education and Training Services                     3.284733e+09  3.362764e+09  \n",
       "Politics and Civic Affairs Services                 3.927187e+09  3.936697e+09  \n",
       "Engineering and Research and Technology Based S...  4.238935e+09  4.308457e+09  \n",
       "Management and Business Professionals and Admin...  5.227782e+09  5.256692e+09  \n",
       "Healthcare Services                                 1.117452e+11  1.117537e+11  "
      ]
     },
     "execution_count": 10,
     "metadata": {},
     "output_type": "execute_result"
    }
   ],
   "source": [
    "group_data"
   ]
  },
  {
   "cell_type": "code",
   "execution_count": 11,
   "id": "498deb01",
   "metadata": {},
   "outputs": [
    {
     "name": "stdout",
     "output_type": "stream",
     "text": [
      "Kurtosis (Total Price by group):56.249175602760076\n",
      "Skew (Total Price by group):7.477633719668517\n"
     ]
    }
   ],
   "source": [
    "print(\"Kurtosis (Total Price by group):\"+str(group_data[\"Total Price\"].kurtosis()))\n",
    "print(\"Skew (Total Price by group):\"+str(group_data[\"Total Price\"].skew()))"
   ]
  },
  {
   "cell_type": "markdown",
   "id": "1054f143",
   "metadata": {},
   "source": [
    "### Descriptive analysis using Scipy"
   ]
  },
  {
   "cell_type": "code",
   "execution_count": 12,
   "id": "54e2b9a4",
   "metadata": {},
   "outputs": [],
   "source": [
    "from scipy import stats"
   ]
  },
  {
   "cell_type": "code",
   "execution_count": 13,
   "id": "a7dd6606",
   "metadata": {},
   "outputs": [
    {
     "data": {
      "text/plain": [
       "DescribeResult(nobs=57, minmax=(180983.05, 111753708471.22), mean=2646691640.8161407, variance=2.177370854736818e+20, skewness=7.279397517855887, kurtosis=51.33129665646472)"
      ]
     },
     "execution_count": 13,
     "metadata": {},
     "output_type": "execute_result"
    }
   ],
   "source": [
    "stats.describe(group_data[\"Total Price\"])"
   ]
  },
  {
   "cell_type": "code",
   "execution_count": 14,
   "id": "0fa25476",
   "metadata": {},
   "outputs": [
    {
     "data": {
      "text/plain": [
       "219758500.3817994"
      ]
     },
     "execution_count": 14,
     "metadata": {},
     "output_type": "execute_result"
    }
   ],
   "source": [
    "stats.gmean(group_data[\"Total Price\"])"
   ]
  },
  {
   "cell_type": "code",
   "execution_count": 15,
   "id": "44dd7155",
   "metadata": {},
   "outputs": [
    {
     "data": {
      "text/plain": [
       "9189204.405215574"
      ]
     },
     "execution_count": 15,
     "metadata": {},
     "output_type": "execute_result"
    }
   ],
   "source": [
    "stats.hmean(group_data[\"Total Price\"])"
   ]
  },
  {
   "cell_type": "code",
   "execution_count": 16,
   "id": "dfd428d2",
   "metadata": {},
   "outputs": [
    {
     "data": {
      "text/plain": [
       "-0.06928694200380558"
      ]
     },
     "execution_count": 16,
     "metadata": {},
     "output_type": "execute_result"
    }
   ],
   "source": [
    "fischer = stats.norm.rvs(size=1000, random_state=3)\n",
    "stats.kurtosis(fischer)"
   ]
  },
  {
   "cell_type": "code",
   "execution_count": 17,
   "id": "feea194d",
   "metadata": {},
   "outputs": [
    {
     "data": {
      "text/plain": [
       "ModeResult(mode=array([180983.05]), count=array([1]))"
      ]
     },
     "execution_count": 17,
     "metadata": {},
     "output_type": "execute_result"
    }
   ],
   "source": [
    "stats.mode(group_data[\"Total Price\"])"
   ]
  },
  {
   "cell_type": "code",
   "execution_count": 18,
   "id": "856bf956",
   "metadata": {},
   "outputs": [
    {
     "data": {
      "text/plain": [
       "2.4862295463557663e+42"
      ]
     },
     "execution_count": 18,
     "metadata": {},
     "output_type": "execute_result"
    }
   ],
   "source": [
    "stats.moment(group_data[\"Total Price\"],moment=4)"
   ]
  },
  {
   "cell_type": "code",
   "execution_count": 19,
   "id": "0da79091",
   "metadata": {},
   "outputs": [
    {
     "data": {
      "text/plain": [
       "7.279397517855887"
      ]
     },
     "execution_count": 19,
     "metadata": {},
     "output_type": "execute_result"
    }
   ],
   "source": [
    "stats.skew(group_data[\"Total Price\"])"
   ]
  },
  {
   "cell_type": "code",
   "execution_count": 20,
   "id": "83c15245",
   "metadata": {},
   "outputs": [
    {
     "data": {
      "text/plain": [
       "2646691640.8161407"
      ]
     },
     "execution_count": 20,
     "metadata": {},
     "output_type": "execute_result"
    }
   ],
   "source": [
    "stats.tmean(group_data[\"Total Price\"])"
   ]
  },
  {
   "cell_type": "code",
   "execution_count": 21,
   "id": "3bffa037",
   "metadata": {},
   "outputs": [
    {
     "data": {
      "text/plain": [
       "2.177370854736818e+20"
      ]
     },
     "execution_count": 21,
     "metadata": {},
     "output_type": "execute_result"
    }
   ],
   "source": [
    "stats.tvar(group_data[\"Total Price\"])"
   ]
  },
  {
   "cell_type": "code",
   "execution_count": 22,
   "id": "80f8a1a2",
   "metadata": {},
   "outputs": [
    {
     "data": {
      "text/plain": [
       "180983.05"
      ]
     },
     "execution_count": 22,
     "metadata": {},
     "output_type": "execute_result"
    }
   ],
   "source": [
    "stats.tmin(group_data[\"Total Price\"])"
   ]
  },
  {
   "cell_type": "code",
   "execution_count": 23,
   "id": "ac3590d2",
   "metadata": {},
   "outputs": [
    {
     "data": {
      "text/plain": [
       "111753708471.22"
      ]
     },
     "execution_count": 23,
     "metadata": {},
     "output_type": "execute_result"
    }
   ],
   "source": [
    "stats.tmax(group_data[\"Total Price\"])"
   ]
  },
  {
   "cell_type": "code",
   "execution_count": 24,
   "id": "68d7856e",
   "metadata": {},
   "outputs": [
    {
     "data": {
      "text/plain": [
       "14755916964.854532"
      ]
     },
     "execution_count": 24,
     "metadata": {},
     "output_type": "execute_result"
    }
   ],
   "source": [
    "stats.tstd(group_data[\"Total Price\"])"
   ]
  },
  {
   "cell_type": "code",
   "execution_count": 25,
   "id": "d2b49561",
   "metadata": {},
   "outputs": [
    {
     "data": {
      "text/plain": [
       "1954468947.811484"
      ]
     },
     "execution_count": 25,
     "metadata": {},
     "output_type": "execute_result"
    }
   ],
   "source": [
    "stats.tsem(group_data[\"Total Price\"])"
   ]
  },
  {
   "cell_type": "code",
   "execution_count": 26,
   "id": "315a3b9b",
   "metadata": {},
   "outputs": [
    {
     "data": {
      "text/plain": [
       "5.575230879674505"
      ]
     },
     "execution_count": 26,
     "metadata": {},
     "output_type": "execute_result"
    }
   ],
   "source": [
    "stats.variation(group_data[\"Total Price\"],ddof=1)"
   ]
  },
  {
   "cell_type": "code",
   "execution_count": 27,
   "id": "08477ba6",
   "metadata": {},
   "outputs": [
    {
     "data": {
      "text/plain": [
       "RepeatedResults(values=array([], dtype=float64), counts=array([], dtype=int64))"
      ]
     },
     "execution_count": 27,
     "metadata": {},
     "output_type": "execute_result"
    }
   ],
   "source": [
    "stats.find_repeats(group_data[\"Total Price\"])"
   ]
  },
  {
   "cell_type": "code",
   "execution_count": 28,
   "id": "3fe1ee47",
   "metadata": {},
   "outputs": [
    {
     "data": {
      "text/plain": [
       "7.335432554390006"
      ]
     },
     "execution_count": 28,
     "metadata": {},
     "output_type": "execute_result"
    }
   ],
   "source": [
    "stats.gstd(group_data[\"Total Price\"])"
   ]
  },
  {
   "cell_type": "code",
   "execution_count": 29,
   "id": "115bbc2b",
   "metadata": {},
   "outputs": [
    {
     "data": {
      "text/plain": [
       "473633329.19"
      ]
     },
     "execution_count": 29,
     "metadata": {},
     "output_type": "execute_result"
    }
   ],
   "source": [
    "stats.iqr(group_data[\"Total Price\"])"
   ]
  },
  {
   "cell_type": "code",
   "execution_count": 30,
   "id": "ea636680",
   "metadata": {},
   "outputs": [
    {
     "data": {
      "text/plain": [
       "1954468947.811484"
      ]
     },
     "execution_count": 30,
     "metadata": {},
     "output_type": "execute_result"
    }
   ],
   "source": [
    "stats.sem(group_data[\"Total Price\"])"
   ]
  },
  {
   "cell_type": "code",
   "execution_count": 31,
   "id": "5e5111f8",
   "metadata": {},
   "outputs": [
    {
     "name": "stdout",
     "output_type": "stream",
     "text": [
      "Mean(statistic=2646691640.8161407, minmax=(-622201264.3651266, 5915584545.997406))\n",
      "Variance(statistic=2.2580142197270705e+20, minmax=(1.6373776265518236e+20, 3.0635390400257576e+20))\n",
      "Std_dev(statistic=14957287054.3103, minmax=(12796005730.507563, 17502968434.027863))\n"
     ]
    }
   ],
   "source": [
    "mean, var, std = stats.bayes_mvs(group_data[\"Total Price\"])\n",
    "print(mean)\n",
    "print(var)\n",
    "print(std)"
   ]
  }
 ],
 "metadata": {
  "kernelspec": {
   "display_name": "Python 3 (ipykernel)",
   "language": "python",
   "name": "python3"
  },
  "language_info": {
   "codemirror_mode": {
    "name": "ipython",
    "version": 3
   },
   "file_extension": ".py",
   "mimetype": "text/x-python",
   "name": "python",
   "nbconvert_exporter": "python",
   "pygments_lexer": "ipython3",
   "version": "3.9.12"
  }
 },
 "nbformat": 4,
 "nbformat_minor": 5
}
