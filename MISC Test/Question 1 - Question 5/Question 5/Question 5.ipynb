{
 "cells": [
  {
   "cell_type": "markdown",
   "id": "569fae32",
   "metadata": {},
   "source": [
    "Import CSV file."
   ]
  },
  {
   "cell_type": "code",
   "execution_count": 1,
   "id": "fb8bf60a",
   "metadata": {},
   "outputs": [],
   "source": [
    "import csv"
   ]
  },
  {
   "cell_type": "markdown",
   "id": "672d82b3",
   "metadata": {},
   "source": [
    "1. copy and paste the text from pdf to a csv file line by line, make no changes to it\n",
    "2. Name it data1.csv\n",
    "3. Make sure the data are in same file or ensure the file path are correct\n",
    "\n",
    "Open file"
   ]
  },
  {
   "cell_type": "code",
   "execution_count": 3,
   "id": "d2cde0dd",
   "metadata": {},
   "outputs": [
    {
     "data": {
      "text/plain": [
       "_io.TextIOWrapper"
      ]
     },
     "execution_count": 3,
     "metadata": {},
     "output_type": "execute_result"
    }
   ],
   "source": [
    "file = open('data1.csv')\n",
    "\n",
    "type(file)"
   ]
  },
  {
   "cell_type": "markdown",
   "id": "52afda5e",
   "metadata": {},
   "source": [
    "Assign the csv data to a variable"
   ]
  },
  {
   "cell_type": "code",
   "execution_count": 5,
   "id": "a1481670",
   "metadata": {},
   "outputs": [
    {
     "data": {
      "text/plain": [
       "<_csv.reader at 0x1aa87a7cd00>"
      ]
     },
     "execution_count": 5,
     "metadata": {},
     "output_type": "execute_result"
    }
   ],
   "source": [
    "data = csv.reader(file)\n",
    "data"
   ]
  },
  {
   "cell_type": "markdown",
   "id": "55fe8a84",
   "metadata": {},
   "source": [
    "1. Create a list\n",
    "2. Append all row line by line\n",
    "\n",
    "Append all row into a list"
   ]
  },
  {
   "cell_type": "code",
   "execution_count": 7,
   "id": "362957d2",
   "metadata": {},
   "outputs": [
    {
     "data": {
      "text/plain": [
       "[['As a term',\n",
       "  ' data analytics predominantly refers to an assortment of applications',\n",
       "  ' from basic business '],\n",
       " ['intelligence (BI)',\n",
       "  ' reporting and online analytical processing (OLAP) to various forms of advanced '],\n",
       " ['analytics. In that sense',\n",
       "  \" it's similar in nature to business analytics\",\n",
       "  ' another umbrella term for '],\n",
       " ['approaches to analyzing data -- with the difference that the latter is oriented to business uses',\n",
       "  ' '],\n",
       " [\"while data analytics has a broader focus. The expansive view of the term isn't universal\",\n",
       "  ' though: In '],\n",
       " ['some cases',\n",
       "  ' people use data analytics specifically to mean advanced analytics',\n",
       "  ' treating BI as a '],\n",
       " ['separate category. Data analytics initiatives can help businesses increase revenues',\n",
       "  ' improve '],\n",
       " ['operational efficiency',\n",
       "  ' optimize marketing campaigns and customer service efforts',\n",
       "  ' respond more '],\n",
       " ['quickly to emerging market trends and gain a competitive edge over rivals -- all with the ultimate '],\n",
       " ['goal of boosting business performance. Depending on the particular application',\n",
       "  \" the data that's \"],\n",
       " ['analyzed can consist of either historical records or new information that has been processed for '],\n",
       " ['real-time analytics uses. In addition',\n",
       "  ' it can come from a mix of internal systems and external data '],\n",
       " ['sources. At a high level',\n",
       "  ' data analytics methodologies include exploratory data analysis (EDA)',\n",
       "  ' '],\n",
       " ['which aims to find patterns and relationships in data',\n",
       "  ' and confirmatory data analysis (CDA)',\n",
       "  ' '],\n",
       " ['which applies statistical techniques to determine whether hypotheses about a data set are true or '],\n",
       " ['false. EDA is often compared to detective work',\n",
       "  ' while CDA is akin to the work of a judge or jury '],\n",
       " ['during a court trial -- a distinction first drawn by statistician John W. Tukey in his 1977 book '],\n",
       " ['Exploratory Data Analysis. Data analytics can also be separated into quantitative data analysis '],\n",
       " ['and qualitative data analysis. The former involves analysis of numerical data with quantifiable '],\n",
       " ['variables that can be compared or measured statistically. The qualitative approach is more '],\n",
       " ['interpretive -- it focuses on understanding the content of non-numerical data like text',\n",
       "  ' images',\n",
       "  ' audio '],\n",
       " ['and video', ' including common phrases', ' themes and points of view.']]"
      ]
     },
     "execution_count": 7,
     "metadata": {},
     "output_type": "execute_result"
    }
   ],
   "source": [
    "rows = []\n",
    "for row in data:\n",
    "        rows.append(row)\n",
    "rows"
   ]
  },
  {
   "cell_type": "markdown",
   "id": "7eb5400f",
   "metadata": {},
   "source": [
    "Check number of rows"
   ]
  },
  {
   "cell_type": "code",
   "execution_count": 9,
   "id": "762603d4",
   "metadata": {},
   "outputs": [
    {
     "data": {
      "text/plain": [
       "22"
      ]
     },
     "execution_count": 9,
     "metadata": {},
     "output_type": "execute_result"
    }
   ],
   "source": [
    "len(rows)"
   ]
  },
  {
   "cell_type": "markdown",
   "id": "39072623",
   "metadata": {},
   "source": [
    "Turn the list to string and standardize the string and remove unnecessary sign"
   ]
  },
  {
   "cell_type": "code",
   "execution_count": 19,
   "id": "566bd1a7",
   "metadata": {},
   "outputs": [],
   "source": [
    "a_string = str([''.join(ele) for ele in rows])\n",
    "a_string = a_string.upper()\n",
    "a_string = a_string.replace(',','')\n",
    "a_string = a_string.replace('.','')\n",
    "a_string = a_string.replace('-','')\n",
    "a_string = a_string.replace('(','')\n",
    "a_string = a_string.replace(')','')\n",
    "a_string = a_string.strip()"
   ]
  },
  {
   "cell_type": "markdown",
   "id": "62622fcc",
   "metadata": {},
   "source": [
    "## Question 5a\n",
    "###  What is the probability of the word “data” occurring in each line? \n",
    "#### Number of data ÷ Number of rows"
   ]
  },
  {
   "cell_type": "code",
   "execution_count": 20,
   "id": "692fe675",
   "metadata": {},
   "outputs": [
    {
     "name": "stdout",
     "output_type": "stream",
     "text": [
      "18\n",
      "22\n",
      "Probability is 0.8181818181818182\n"
     ]
    }
   ],
   "source": [
    "print(a_string.count('DATA'))\n",
    "print(len(rows))\n",
    "print(\"Probability is \"+str(a_string.count('DATA')/len(rows)))"
   ]
  },
  {
   "cell_type": "markdown",
   "id": "fada450f",
   "metadata": {},
   "source": [
    "## Question 5b\n",
    "### What is the distribution of distinct word counts across all the lines?\n",
    "#### Count all unique words"
   ]
  },
  {
   "cell_type": "code",
   "execution_count": 21,
   "id": "56161a24",
   "metadata": {},
   "outputs": [
    {
     "name": "stdout",
     "output_type": "stream",
     "text": [
      "201\n"
     ]
    }
   ],
   "source": [
    "b_string = a_string.split()\n",
    "unique_words = []\n",
    "\n",
    "for word in b_string:\n",
    "\tif word not in unique_words:\n",
    "\t\tunique_words.append(word)\n",
    "\telse:\n",
    "\t\tcontinue\n",
    "\n",
    "print(len(unique_words))"
   ]
  },
  {
   "cell_type": "code",
   "execution_count": 22,
   "id": "b1117bbc",
   "metadata": {},
   "outputs": [
    {
     "name": "stdout",
     "output_type": "stream",
     "text": [
      "18\n",
      "6\n"
     ]
    }
   ],
   "source": [
    "print(a_string.count('DATA'))\n",
    "print(a_string.count('DATA ANALYTICS'))"
   ]
  },
  {
   "cell_type": "markdown",
   "id": "2023d24d",
   "metadata": {},
   "source": [
    "## Question 5c\n",
    "### What is the probability of the word “analytics” occurring after the word “data”?\n",
    "#### Number of 'Data Analytics' ÷ Number of 'Data'"
   ]
  },
  {
   "cell_type": "code",
   "execution_count": 24,
   "id": "1841fca9",
   "metadata": {},
   "outputs": [
    {
     "name": "stdout",
     "output_type": "stream",
     "text": [
      "Probability : 0.3333333333333333\n"
     ]
    }
   ],
   "source": [
    "print(\"Probability : \"+str(a_string.count('DATA ANALYTICS')/a_string.count('DATA')))"
   ]
  }
 ],
 "metadata": {
  "kernelspec": {
   "display_name": "Python 3 (ipykernel)",
   "language": "python",
   "name": "python3"
  },
  "language_info": {
   "codemirror_mode": {
    "name": "ipython",
    "version": 3
   },
   "file_extension": ".py",
   "mimetype": "text/x-python",
   "name": "python",
   "nbconvert_exporter": "python",
   "pygments_lexer": "ipython3",
   "version": "3.9.12"
  }
 },
 "nbformat": 4,
 "nbformat_minor": 5
}
