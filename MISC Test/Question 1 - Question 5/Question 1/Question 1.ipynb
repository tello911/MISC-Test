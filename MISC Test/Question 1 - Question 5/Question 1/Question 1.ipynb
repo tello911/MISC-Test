{
 "cells": [
  {
   "cell_type": "markdown",
   "id": "a06ae46d",
   "metadata": {},
   "source": [
    "Import re for Regex use"
   ]
  },
  {
   "cell_type": "code",
   "execution_count": 1,
   "id": "6523cbb7",
   "metadata": {},
   "outputs": [],
   "source": [
    "import re"
   ]
  },
  {
   "cell_type": "markdown",
   "id": "db3394c9",
   "metadata": {},
   "source": [
    "Set text to analyse"
   ]
  },
  {
   "cell_type": "code",
   "execution_count": 2,
   "id": "26cc2ef7",
   "metadata": {},
   "outputs": [],
   "source": [
    "txt = \"THIS PURCHASE AND SALE AGREEMENT (this Agreement) is made to be effective as of October 12, 2012 (the Effective Date), by and between WESLEY VILLAGE DEVELOPMENT, LP, a Delaware limited partnership (Seller), and KBS-LEGACY APARTMENT COMMUNITY REIT VENTURE, LLC, a Delaware limited liability company (Buyer). Deposit shall mean One Million Two Hundred Fifty Thousand and No/100 Dollars ($1,250,000.00), consisting of, collectively, the first deposit of Two Hundred Fifty Thousand and No/100 Dollars ($250,000.00) (the First Deposit), and the second deposit of One Million and No/100 Dollars ($1,000,000.00) (the Second Deposit), to the extent Buyer deposits the same in accordance with the terms of Section 2.1, together with any interest earned thereon.\"\n"
   ]
  },
  {
   "cell_type": "markdown",
   "id": "32c3f8fb",
   "metadata": {},
   "source": [
    "Set pattern to Find Company\n",
    "1. '[A-Z]' : Start with Capital Letter\n",
    "2. '[A-Z]+': Followed with Capital Letter(s)\n",
    "3. ','     : Have Comma after that\n",
    "4. ' '      : Have space after that\n",
    "5. '[A-Z]{2,3}' : Consist of 2 or 3 capital letter only character word"
   ]
  },
  {
   "cell_type": "code",
   "execution_count": 3,
   "id": "83c9629a",
   "metadata": {},
   "outputs": [
    {
     "name": "stdout",
     "output_type": "stream",
     "text": [
      "['WESLEY VILLAGE DEVELOPMENT, LP', 'KBS-LEGACY APARTMENT COMMUNITY REIT VENTURE, LLC']\n"
     ]
    }
   ],
   "source": [
    "x = re.findall(\"[A-Z][A-Z -]+, [A-Z]{2,3}\", txt)\n",
    "print(x)"
   ]
  },
  {
   "cell_type": "markdown",
   "id": "3aebd642",
   "metadata": {},
   "source": [
    "Set pattern for Date\n",
    "\n",
    "1. \\w+ for matches a \"word\" character: a letter or digit or underbar [a-zA-Z0-9_] for one or more character.\n",
    "2. \\s+ for matches a single whitespace character -- space, newline, return, tab, form for one or more character.\n",
    "3. \\d{1,2} for matches any single digit (same as [0-9] )for one or two character.\n",
    "4. , for comma\n",
    "5. \\s+ for matches a single whitespace character -- space, newline, return, tab, form for one or more character.\n",
    "6. \\d{1,2} for matches any single digit (same as [0-9] )for strictly 4 characters."
   ]
  },
  {
   "cell_type": "code",
   "execution_count": 4,
   "id": "f642d561",
   "metadata": {},
   "outputs": [
    {
     "name": "stdout",
     "output_type": "stream",
     "text": [
      "['October 12, 2012']\n"
     ]
    }
   ],
   "source": [
    "x = re.findall(\"\\w+\\s+\\d{1,2},\\s+\\d{4}\", txt)\n",
    "print(x)"
   ]
  },
  {
   "cell_type": "markdown",
   "id": "0d5b08b5",
   "metadata": {},
   "source": [
    "Set pattern for $ currency\n",
    "\n",
    "1. [\\\\$] start with '$'\n",
    "2. [0-9,.]+ for matches any digit or comma or period sign for one or more character."
   ]
  },
  {
   "cell_type": "code",
   "execution_count": 5,
   "id": "8edf38b8",
   "metadata": {},
   "outputs": [
    {
     "name": "stdout",
     "output_type": "stream",
     "text": [
      "['$1,250,000.00', '$250,000.00', '$1,000,000.00']\n"
     ]
    }
   ],
   "source": [
    "\n",
    "x = re.findall(\"[$][0-9,.]+\", txt)\n",
    "print(x)"
   ]
  },
  {
   "cell_type": "code",
   "execution_count": null,
   "id": "83a86b54",
   "metadata": {},
   "outputs": [],
   "source": []
  }
 ],
 "metadata": {
  "kernelspec": {
   "display_name": "Python 3 (ipykernel)",
   "language": "python",
   "name": "python3"
  },
  "language_info": {
   "codemirror_mode": {
    "name": "ipython",
    "version": 3
   },
   "file_extension": ".py",
   "mimetype": "text/x-python",
   "name": "python",
   "nbconvert_exporter": "python",
   "pygments_lexer": "ipython3",
   "version": "3.9.12"
  }
 },
 "nbformat": 4,
 "nbformat_minor": 5
}
